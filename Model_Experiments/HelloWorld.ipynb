{
 "cells": [
  {
   "cell_type": "markdown",
   "metadata": {},
   "source": [
    "# Hello World!\n",
    "## This is an experiment scratchpad"
   ]
  },
  {
   "cell_type": "code",
   "execution_count": 1,
   "metadata": {},
   "outputs": [
    {
     "name": "stderr",
     "output_type": "stream",
     "text": [
      "NVMLError: NVML Shared Library Not Found - GPU usage metrics may not be reported.\n"
     ]
    },
    {
     "name": "stdout",
     "output_type": "stream",
     "text": [
      "https://ui.neptune.ai/charag/Littlefoot/e/LIT-3\r\n"
     ]
    }
   ],
   "source": [
    "#start experiment in notebook:\n",
    "import neptune\n",
    "\n",
    "# The init() function called this way assumes that \n",
    "# NEPTUNE_API_TOKEN environment variable is defined.\n",
    "\n",
    "neptune.init('charag/Littlefoot')\n",
    "neptune.create_experiment(name='FirstNBExp')\n",
    "\n",
    "# log some metrics\n",
    "\n",
    "for i in range(100):\n",
    "    neptune.log_metric('loss', 0.95**i)\n",
    "\n",
    "neptune.log_metric('AUC', 0.96)\n"
   ]
  },
  {
   "cell_type": "code",
   "execution_count": null,
   "metadata": {},
   "outputs": [],
   "source": []
  }
 ],
 "metadata": {
  "kernelspec": {
   "display_name": "Python 3.7.5 64-bit ('UNIDonkey': conda)",
   "language": "python",
   "name": "python37564bitunidonkeyconda72267f8872974a43b6da3a8ed2c4b2ff"
  },
  "language_info": {
   "codemirror_mode": {
    "name": "ipython",
    "version": 3
   },
   "file_extension": ".py",
   "mimetype": "text/x-python",
   "name": "python",
   "nbconvert_exporter": "python",
   "pygments_lexer": "ipython3",
   "version": "3.7.5"
  },
  "neptune": {
   "notebookId": "1502ba49-ceea-4a1b-97ee-c14794d37f62"
  }
 },
 "nbformat": 4,
 "nbformat_minor": 2
}
